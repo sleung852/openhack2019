{
 "cells": [
  {
   "cell_type": "markdown",
   "metadata": {},
   "source": [
    "#### Task 2\n",
    "Use Azure: Custom Vision API to complete a classification problem to classify Hardshell Jacket and Insulate Jacket"
   ]
  },
  {
   "cell_type": "code",
   "execution_count": 4,
   "metadata": {},
   "outputs": [
    {
     "name": "stdout",
     "output_type": "stream",
     "text": [
      "Collecting azure\n",
      "  Downloading https://files.pythonhosted.org/packages/5a/5e/f94bd8091ab0ccc68ee902e188d4e8cd3b38dc77155a1c187cbf4767d0e4/azure-4.0.0-py2.py3-none-any.whl\n",
      "Collecting azure-storage-file~=1.3 (from azure)\n",
      "  Downloading https://files.pythonhosted.org/packages/c9/33/6c611563412ffc409b2413ac50e3a063133ea235b86c137759774c77f3ad/azure_storage_file-1.4.0-py2.py3-none-any.whl\n",
      "Collecting azure-datalake-store~=0.0.18 (from azure)\n",
      "\u001b[?25l  Downloading https://files.pythonhosted.org/packages/51/c1/66fa2137762e6e4cf084d2eeded25793bef87d0bec139a95cee4c7ef6565/azure_datalake_store-0.0.44-py2.py3-none-any.whl (52kB)\n",
      "\u001b[K    100% |████████████████████████████████| 61kB 12.2MB/s ta 0:00:01\n",
      "\u001b[?25hCollecting azure-cosmosdb-table~=1.0 (from azure)\n",
      "\u001b[?25l  Downloading https://files.pythonhosted.org/packages/55/81/f57fea1cdab4490bc185e48a4db2451795fde37eb8fed1808e7e8fd2c99e/azure_cosmosdb_table-1.0.5-py2.py3-none-any.whl (80kB)\n",
      "\u001b[K    100% |████████████████████████████████| 81kB 17.0MB/s ta 0:00:01\n",
      "\u001b[?25hCollecting azure-keyvault~=1.0 (from azure)\n",
      "\u001b[?25l  Downloading https://files.pythonhosted.org/packages/80/37/e80f577570b32648c4b88c8c48a46501a4868ae4c8d905774fd02c2b01fc/azure_keyvault-1.1.0-py2.py3-none-any.whl (352kB)\n",
      "\u001b[K    100% |████████████████████████████████| 358kB 40.0MB/s ta 0:00:01\n",
      "\u001b[?25hCollecting azure-servicemanagement-legacy~=0.20.6 (from azure)\n",
      "\u001b[?25l  Downloading https://files.pythonhosted.org/packages/a3/2b/0813d459df7ec04bb8c6a250882ee88b672a5f8d16a237978c89436a053e/azure_servicemanagement_legacy-0.20.6-py2.py3-none-any.whl (78kB)\n",
      "\u001b[K    100% |████████████████████████████████| 81kB 39.9MB/s ta 0:00:01\n",
      "\u001b[?25hCollecting azure-servicefabric~=6.3.0.0 (from azure)\n",
      "\u001b[?25l  Downloading https://files.pythonhosted.org/packages/2c/d9/3e33ad19eb57988dff3aac06bab241736f86dc692a38c5ff6bb6fb959243/azure_servicefabric-6.3.0.0-py2.py3-none-any.whl (1.1MB)\n",
      "\u001b[K    100% |████████████████████████████████| 1.1MB 27.4MB/s ta 0:00:01\n",
      "\u001b[?25hCollecting azure-servicebus~=0.21.1 (from azure)\n",
      "  Downloading https://files.pythonhosted.org/packages/b8/de/47c0df32b57512ac9640ba239c7eeca22cb908bd8b645235729ec4f37196/azure_servicebus-0.21.1-py2.py3-none-any.whl\n",
      "Requirement already satisfied: azure-storage-blob~=1.3 in /data/anaconda/envs/py36/lib/python3.6/site-packages (from azure) (1.4.0)\n",
      "Collecting azure-batch~=4.1 (from azure)\n",
      "\u001b[?25l  Downloading https://files.pythonhosted.org/packages/b1/fa/1053b5dcd88e5de8e8cd70a4d7189ffad037542963ea86b518deb612c498/azure_batch-4.1.3-py2.py3-none-any.whl (314kB)\n",
      "\u001b[K    100% |████████████████████████████████| 317kB 45.4MB/s ta 0:00:01\n",
      "\u001b[?25hCollecting azure-storage-queue~=1.3 (from azure)\n",
      "  Downloading https://files.pythonhosted.org/packages/72/94/4db044f1c155b40c5ebc037bfd9d1c24562845692c06798fbe869fe160e6/azure_storage_queue-1.4.0-py2.py3-none-any.whl\n",
      "Collecting azure-loganalytics~=0.1.0 (from azure)\n",
      "  Downloading https://files.pythonhosted.org/packages/54/e2/1d30270441a50efce1d52eb426710fc98269eb8bdac44ee966bbd07846da/azure_loganalytics-0.1.0-py2.py3-none-any.whl\n",
      "Collecting azure-eventgrid~=1.1 (from azure)\n",
      "\u001b[?25l  Downloading https://files.pythonhosted.org/packages/03/73/2880452058ce2ccaed5f358ad0c8c45e79cfd2725a8d5add17b12680aff5/azure_eventgrid-1.2.0-py2.py3-none-any.whl (84kB)\n",
      "\u001b[K    100% |████████████████████████████████| 92kB 43.5MB/s ta 0:00:01\n",
      "\u001b[?25hCollecting azure-graphrbac~=0.40.0 (from azure)\n",
      "\u001b[?25l  Downloading https://files.pythonhosted.org/packages/89/0a/29f7e2914033e2536026b8f0d7f8deb1edda68c9a93ce4757b2b1e39568b/azure_graphrbac-0.40.0-py2.py3-none-any.whl (63kB)\n",
      "\u001b[K    100% |████████████████████████████████| 71kB 42.0MB/s ta 0:00:01\n",
      "\u001b[?25hCollecting azure-mgmt~=4.0 (from azure)\n",
      "  Downloading https://files.pythonhosted.org/packages/19/8e/6fa401c437579127e726487582a9861fef09022c4ab50901bb499a8e4fc1/azure_mgmt-4.0.0-py2.py3-none-any.whl\n",
      "Collecting azure-applicationinsights~=0.1.0 (from azure)\n",
      "\u001b[?25l  Downloading https://files.pythonhosted.org/packages/3b/f7/3af9ce8a9a597998629436889cf5d69d1a0c96713e795fd372e4af785635/azure_applicationinsights-0.1.0-py2.py3-none-any.whl (104kB)\n",
      "\u001b[K    100% |████████████████████████████████| 112kB 46.9MB/s ta 0:00:01\n",
      "\u001b[?25hRequirement already satisfied: azure-common>=1.1.5 in /data/anaconda/envs/py36/lib/python3.6/site-packages (from azure-storage-file~=1.3->azure) (1.1.16)\n",
      "Requirement already satisfied: azure-storage-common~=1.4 in /data/anaconda/envs/py36/lib/python3.6/site-packages (from azure-storage-file~=1.3->azure) (1.4.0)\n",
      "Requirement already satisfied: adal>=0.4.2 in /data/anaconda/envs/py36/lib/python3.6/site-packages (from azure-datalake-store~=0.0.18->azure) (1.2.0)\n",
      "Requirement already satisfied: cffi in /data/anaconda/envs/py36/lib/python3.6/site-packages (from azure-datalake-store~=0.0.18->azure) (1.11.5)\n",
      "Requirement already satisfied: requests>=2.20.0 in /data/anaconda/envs/py36/lib/python3.6/site-packages (from azure-datalake-store~=0.0.18->azure) (2.20.1)\n",
      "Requirement already satisfied: python-dateutil in /data/anaconda/envs/py36/lib/python3.6/site-packages (from azure-cosmosdb-table~=1.0->azure) (2.7.5)\n",
      "Collecting azure-cosmosdb-nspkg>=2.0.0 (from azure-cosmosdb-table~=1.0->azure)\n",
      "  Downloading https://files.pythonhosted.org/packages/58/0d/1329b47e5386b0acf4e42ada2284851eff60ef3337a87e5b2dfedabbfcb1/azure_cosmosdb_nspkg-2.0.2-py2.py3-none-any.whl\n",
      "Requirement already satisfied: cryptography in /data/anaconda/envs/py36/lib/python3.6/site-packages (from azure-cosmosdb-table~=1.0->azure) (2.4.2)\n",
      "Requirement already satisfied: msrestazure<2.0.0,>=0.4.32 in /data/anaconda/envs/py36/lib/python3.6/site-packages (from azure-keyvault~=1.0->azure) (0.5.1)\n",
      "Requirement already satisfied: msrest>=0.5.0 in /data/anaconda/envs/py36/lib/python3.6/site-packages (from azure-keyvault~=1.0->azure) (0.6.2)\n",
      "Requirement already satisfied: azure-nspkg>=2.0.0 in /data/anaconda/envs/py36/lib/python3.6/site-packages (from azure-keyvault~=1.0->azure) (3.0.2)\n",
      "Collecting azure-mgmt-cosmosdb~=0.4.1 (from azure-mgmt~=4.0->azure)\n",
      "\u001b[?25l  Downloading https://files.pythonhosted.org/packages/17/ed/d97a04c8c26e2432f2cf000b711daeb053e1cfbdb046bd5d070c941b4fcb/azure_mgmt_cosmosdb-0.4.1-py2.py3-none-any.whl (100kB)\n",
      "\u001b[K    100% |████████████████████████████████| 102kB 43.1MB/s a 0:00:01\n",
      "\u001b[?25hCollecting azure-mgmt-authorization~=0.50.0 (from azure-mgmt~=4.0->azure)\n",
      "\u001b[?25l  Downloading https://files.pythonhosted.org/packages/6f/17/55b974603c16be89c7a7c16bac57b7bce48527bf1bebc3f116f7215176e6/azure_mgmt_authorization-0.50.0-py2.py3-none-any.whl (81kB)\n",
      "\u001b[K    100% |████████████████████████████████| 81kB 27.7MB/s ta 0:00:01\n",
      "\u001b[?25hCollecting azure-mgmt-servicebus~=0.5.1 (from azure-mgmt~=4.0->azure)\n",
      "\u001b[?25l  Downloading https://files.pythonhosted.org/packages/28/ad/9e90f8bab40a9682410e57ed08a799be113c5e470bec247b099038c6389e/azure_mgmt_servicebus-0.5.3-py2.py3-none-any.whl (112kB)\n",
      "\u001b[K    100% |████████████████████████████████| 112kB 46.0MB/s ta 0:00:01\n",
      "\u001b[?25hCollecting azure-mgmt-devtestlabs~=2.2 (from azure-mgmt~=4.0->azure)\n",
      "\u001b[?25l  Downloading https://files.pythonhosted.org/packages/2f/93/a64abaede2fc6a52476af8ceab9cedb368c49e948d9385cbe7cd4ce5ffff/azure_mgmt_devtestlabs-2.2.0-py2.py3-none-any.whl (194kB)\n",
      "\u001b[K    100% |████████████████████████████████| 194kB 47.4MB/s ta 0:00:01\n",
      "\u001b[?25hCollecting azure-mgmt-managementpartner~=0.1.0 (from azure-mgmt~=4.0->azure)\n",
      "  Downloading https://files.pythonhosted.org/packages/98/4c/df713fcdc3710dca74b375c968b17b479c64ef19965e15b478def074a4ce/azure_mgmt_managementpartner-0.1.0-py2.py3-none-any.whl\n",
      "Collecting azure-mgmt-media~=1.0.0rc2 (from azure-mgmt~=4.0->azure)\n",
      "\u001b[?25l  Downloading https://files.pythonhosted.org/packages/65/2e/6d9649bd5645ac32a179adfea5707f640fc51a57e493c27f0ab575789e85/azure_mgmt_media-1.0.0-py2.py3-none-any.whl (335kB)\n",
      "\u001b[K    100% |████████████████████████████████| 337kB 43.2MB/s ta 0:00:01\n",
      "\u001b[?25hRequirement already satisfied: azure-mgmt-resource~=2.0 in /data/anaconda/envs/py36/lib/python3.6/site-packages (from azure-mgmt~=4.0->azure) (2.0.0)\n",
      "Collecting azure-mgmt-storage~=2.0 (from azure-mgmt~=4.0->azure)\n",
      "\u001b[?25l  Downloading https://files.pythonhosted.org/packages/67/5b/15e6a8109af53e4c2228142ea816532036700757d035fc1b9cd0f6a63b02/azure_mgmt_storage-2.0.0-py2.py3-none-any.whl (558kB)\n"
     ]
    },
    {
     "name": "stdout",
     "output_type": "stream",
     "text": [
      "\u001b[K    100% |████████████████████████████████| 563kB 38.9MB/s ta 0:00:01\n",
      "\u001b[?25hCollecting azure-mgmt-eventgrid~=1.0 (from azure-mgmt~=4.0->azure)\n",
      "\u001b[?25l  Downloading https://files.pythonhosted.org/packages/54/5b/e91e616021ae9be0019c9c19cffb92b97d787246ca51cfcc0b0a0c6da77a/azure_mgmt_eventgrid-1.0.0-py2.py3-none-any.whl (51kB)\n",
      "\u001b[K    100% |████████████████████████████████| 61kB 40.3MB/s ta 0:00:01\n",
      "\u001b[?25hCollecting azure-mgmt-iothubprovisioningservices~=0.2.0 (from azure-mgmt~=4.0->azure)\n",
      "\u001b[?25l  Downloading https://files.pythonhosted.org/packages/84/ce/3500c731a5c5b31028e662aa41bc45f75301834a0c03adeacfe7ef7bd86e/azure_mgmt_iothubprovisioningservices-0.2.0-py2.py3-none-any.whl (60kB)\n",
      "\u001b[K    100% |████████████████████████████████| 61kB 28.2MB/s ta 0:00:01\n",
      "\u001b[?25hCollecting azure-mgmt-policyinsights~=0.1.0 (from azure-mgmt~=4.0->azure)\n",
      "\u001b[?25l  Downloading https://files.pythonhosted.org/packages/19/84/7021951ae69572a19af0ff9cca1d2abf3542d35af38796656ded1be08358/azure_mgmt_policyinsights-0.1.0-py2.py3-none-any.whl (44kB)\n",
      "\u001b[K    100% |████████████████████████████████| 51kB 35.0MB/s ta 0:00:01\n",
      "\u001b[?25hCollecting azure-mgmt-batch~=5.0 (from azure-mgmt~=4.0->azure)\n",
      "\u001b[?25l  Downloading https://files.pythonhosted.org/packages/97/81/a9eb3fd2ab070159105b4cfe9640c24410ac8195286729d62bfdf871de94/azure_mgmt_batch-5.0.1-py2.py3-none-any.whl (87kB)\n",
      "\u001b[K    100% |████████████████████████████████| 92kB 43.8MB/s ta 0:00:01\n",
      "\u001b[?25hCollecting azure-mgmt-datafactory~=0.6.0 (from azure-mgmt~=4.0->azure)\n",
      "\u001b[?25l  Downloading https://files.pythonhosted.org/packages/cf/01/32a6ad5ad348d965f7c106d819a1f6dc613f6aa98a720ffc529ef468016b/azure_mgmt_datafactory-0.6.0-py2.py3-none-any.whl (418kB)\n",
      "\u001b[K    100% |████████████████████████████████| 419kB 21.5MB/s ta 0:00:01\n",
      "\u001b[?25hCollecting azure-mgmt-recoveryservicesbackup~=0.3.0 (from azure-mgmt~=4.0->azure)\n",
      "\u001b[?25l  Downloading https://files.pythonhosted.org/packages/c5/af/13b10d76bc0ff9188c9e5cd9f2726a5745029b76125938491f9abac5399d/azure_mgmt_recoveryservicesbackup-0.3.0-py2.py3-none-any.whl (568kB)\n",
      "\u001b[K    100% |████████████████████████████████| 573kB 40.6MB/s ta 0:00:01\n",
      "\u001b[?25hCollecting azure-mgmt-advisor~=1.0 (from azure-mgmt~=4.0->azure)\n",
      "  Downloading https://files.pythonhosted.org/packages/cb/f3/a86ba3e0784d12c8fe5cbf1f24e1b9255575a2f0892e08c46cddd0795dfd/azure_mgmt_advisor-1.0.1-py2.py3-none-any.whl\n",
      "Collecting azure-mgmt-containerinstance~=1.0 (from azure-mgmt~=4.0->azure)\n",
      "\u001b[?25l  Downloading https://files.pythonhosted.org/packages/77/50/f7f419e0ac788d41d080d5f25daf988b993063aab3bfd90def54e93e72d7/azure_mgmt_containerinstance-1.4.0-py2.py3-none-any.whl (87kB)\n",
      "\u001b[K    100% |████████████████████████████████| 92kB 43.7MB/s ta 0:00:01\n",
      "\u001b[?25hCollecting azure-mgmt-datalake-store~=0.5.0 (from azure-mgmt~=4.0->azure)\n",
      "\u001b[?25l  Downloading https://files.pythonhosted.org/packages/ff/ac/5685cd06dc8b245bb6b894815764a14bd62245ba4579b45148682f510fdd/azure_mgmt_datalake_store-0.5.0-py2.py3-none-any.whl (88kB)\n",
      "\u001b[K    100% |████████████████████████████████| 92kB 42.3MB/s ta 0:00:01\n",
      "\u001b[?25hCollecting azure-mgmt-loganalytics~=0.2.0 (from azure-mgmt~=4.0->azure)\n",
      "\u001b[?25l  Downloading https://files.pythonhosted.org/packages/70/40/c9b77bf82916e963aa701fb396673f7ddc4cdab95524b6d2edf927b05630/azure_mgmt_loganalytics-0.2.0-py2.py3-none-any.whl (89kB)\n",
      "\u001b[K    100% |████████████████████████████████| 92kB 44.9MB/s ta 0:00:01\n",
      "\u001b[?25hCollecting azure-mgmt-powerbiembedded~=2.0 (from azure-mgmt~=4.0->azure)\n",
      "  Downloading https://files.pythonhosted.org/packages/64/2b/5a69d118626a83055ce577fb6ba35c114e72f0273d0c4d943b909ee8d51e/azure_mgmt_powerbiembedded-2.0.0-py2.py3-none-any.whl\n",
      "Collecting azure-mgmt-machinelearningcompute~=0.4.1 (from azure-mgmt~=4.0->azure)\n",
      "  Downloading https://files.pythonhosted.org/packages/b4/9c/f8eb81b307df4465809b182f2fe44c288eeb41c0ab54f91b61ac554998a9/azure_mgmt_machinelearningcompute-0.4.1-py2.py3-none-any.whl\n",
      "Collecting azure-mgmt-cdn~=3.0 (from azure-mgmt~=4.0->azure)\n",
      "\u001b[?25l  Downloading https://files.pythonhosted.org/packages/97/bf/c41e8985b4ffaaad2baaded1fb7b113433ae2d30d65c1a8c226e72284b72/azure_mgmt_cdn-3.1.0-py2.py3-none-any.whl (119kB)\n",
      "\u001b[K    100% |████████████████████████████████| 122kB 48.8MB/s ta 0:00:01\n",
      "\u001b[?25hCollecting azure-mgmt-compute~=4.0 (from azure-mgmt~=4.0->azure)\n",
      "\u001b[?25l  Downloading https://files.pythonhosted.org/packages/b7/c4/2ba0af13ecfcd8a3dc2a43cb7306d8b1fe6881b93028afb3820458a1a3e2/azure_mgmt_compute-4.4.0-py2.py3-none-any.whl (2.5MB)\n",
      "\u001b[K    100% |████████████████████████████████| 2.5MB 17.0MB/s ta 0:00:01\n",
      "\u001b[?25hRequirement already satisfied: azure-mgmt-containerregistry~=2.1 in /data/anaconda/envs/py36/lib/python3.6/site-packages (from azure-mgmt~=4.0->azure) (2.4.0)\n",
      "Collecting azure-mgmt-sql~=0.9.1 (from azure-mgmt~=4.0->azure)\n",
      "\u001b[?25l  Downloading https://files.pythonhosted.org/packages/c5/bb/219c76af961e9e6d1f5055d70c3cc06889b91375727a04367149c3aad640/azure_mgmt_sql-0.9.1-py2.py3-none-any.whl (485kB)\n",
      "\u001b[K    100% |████████████████████████████████| 491kB 2.0MB/s eta 0:00:01\n",
      "\u001b[?25hRequirement already satisfied: azure-mgmt-keyvault~=1.0 in /data/anaconda/envs/py36/lib/python3.6/site-packages (from azure-mgmt~=4.0->azure) (1.1.0)\n",
      "Collecting azure-mgmt-hanaonazure~=0.1.1 (from azure-mgmt~=4.0->azure)\n",
      "  Downloading https://files.pythonhosted.org/packages/f3/1b/50d300ae02158ab092f923132050b56c148f1b784c7b594d3275d4449769/azure_mgmt_hanaonazure-0.1.1-py2.py3-none-any.whl\n",
      "Collecting azure-mgmt-signalr~=0.1.0 (from azure-mgmt~=4.0->azure)\n",
      "\u001b[?25l  Downloading https://files.pythonhosted.org/packages/10/32/379137548a4c6e4dfd15da6b1c476f2b1af52e8d7fe243fdac9ea2064427/azure_mgmt_signalr-0.1.1-py2.py3-none-any.whl (49kB)\n",
      "\u001b[K    100% |████████████████████████████████| 51kB 32.8MB/s ta 0:00:01\n",
      "\u001b[?25hCollecting azure-mgmt-redis~=5.0 (from azure-mgmt~=4.0->azure)\n",
      "\u001b[?25l  Downloading https://files.pythonhosted.org/packages/90/a7/42342a984b2916972c5c5e24df94e3cd5e4377a8dc465a83415706d9be6f/azure_mgmt_redis-5.0.0-py2.py3-none-any.whl (43kB)\n",
      "\u001b[K    100% |████████████████████████████████| 51kB 35.4MB/s ta 0:00:01\n",
      "\u001b[?25hCollecting azure-mgmt-marketplaceordering~=0.1.0 (from azure-mgmt~=4.0->azure)\n",
      "  Downloading https://files.pythonhosted.org/packages/a8/cb/13502fdbaf520d08fb280eb31ecfe5d926b9cf92259c22280bbde96b307d/azure_mgmt_marketplaceordering-0.1.0-py2.py3-none-any.whl\n",
      "Collecting azure-mgmt-msi~=0.2.0 (from azure-mgmt~=4.0->azure)\n",
      "  Downloading https://files.pythonhosted.org/packages/ae/95/b451721e38ca0feddce03ee3ce86158e208d0150253bd371207a8df4e9c5/azure_mgmt_msi-0.2.0-py2.py3-none-any.whl\n",
      "Collecting azure-mgmt-commerce~=1.0 (from azure-mgmt~=4.0->azure)\n",
      "  Downloading https://files.pythonhosted.org/packages/7e/13/f421e77dd1fe3c9657a890f9c085f433fe422f54003ee03e631a8be5c4e7/azure_mgmt_commerce-1.0.1-py2.py3-none-any.whl\n",
      "Collecting azure-mgmt-consumption~=2.0 (from azure-mgmt~=4.0->azure)\n",
      "\u001b[?25l  Downloading https://files.pythonhosted.org/packages/11/f4/2db9557494dfb17ff3edeae5726981143a7baace17df3712b189e343bd8c/azure_mgmt_consumption-2.0.0-py2.py3-none-any.whl (46kB)\n",
      "\u001b[K    100% |████████████████████████████████| 51kB 31.6MB/s ta 0:00:01\n",
      "\u001b[?25hCollecting azure-mgmt-containerservice~=4.2 (from azure-mgmt~=4.0->azure)\n",
      "\u001b[?25l  Downloading https://files.pythonhosted.org/packages/5b/2f/0eba2dbd5d3f66c076a66b0020ccfe9c7e78534ac132afaa104c138680c1/azure_mgmt_containerservice-4.4.0-py2.py3-none-any.whl (206kB)\n",
      "\u001b[K    100% |████████████████████████████████| 215kB 47.3MB/s ta 0:00:01\n",
      "\u001b[?25hCollecting azure-mgmt-search~=2.0 (from azure-mgmt~=4.0->azure)\n",
      "  Downloading https://files.pythonhosted.org/packages/e2/52/46a5984eca50393057d4e760b9ef4adc5d6b8738f333427632991c6f3739/azure_mgmt_search-2.0.0-py2.py3-none-any.whl\n",
      "Collecting azure-mgmt-datamigration~=1.0 (from azure-mgmt~=4.0->azure)\n",
      "\u001b[?25l  Downloading https://files.pythonhosted.org/packages/8b/4f/7b149487e77d94e701288e1d0b066a7d522bdfe8595e992b5d39dfb00f80/azure_mgmt_datamigration-1.0.0-py2.py3-none-any.whl (185kB)\n",
      "\u001b[K    100% |████████████████████████████████| 194kB 44.2MB/s ta 0:00:01\n",
      "\u001b[?25hCollecting azure-mgmt-devspaces~=0.1.0 (from azure-mgmt~=4.0->azure)\n",
      "  Downloading https://files.pythonhosted.org/packages/f4/d3/ff9c39578f24fb4bd158a882788c7795b177cf3f23ce7cf1d8b52066a64e/azure_mgmt_devspaces-0.1.0-py2.py3-none-any.whl\n"
     ]
    },
    {
     "name": "stdout",
     "output_type": "stream",
     "text": [
      "Collecting azure-mgmt-network~=2.0 (from azure-mgmt~=4.0->azure)\n",
      "\u001b[?25l  Downloading https://files.pythonhosted.org/packages/66/4f/435d28af3efd642cb850ccbb968682aacfb32039f4aa877b8063d2236cae/azure_mgmt_network-2.5.1-py2.py3-none-any.whl (9.6MB)\n",
      "\u001b[K    100% |████████████████████████████████| 9.6MB 6.9MB/s eta 0:00:01    15% |████▉                           | 1.4MB 14.0MB/s eta 0:00:01\n",
      "\u001b[?25hCollecting azure-mgmt-batchai~=2.0 (from azure-mgmt~=4.0->azure)\n",
      "\u001b[?25l  Downloading https://files.pythonhosted.org/packages/d9/a5/ab796c2a490155c14f9ac4240724ca5c56723315d4dc753030712e6f2e80/azure_mgmt_batchai-2.0.0-py2.py3-none-any.whl (174kB)\n",
      "\u001b[K    100% |████████████████████████████████| 184kB 48.2MB/s ta 0:00:01\n",
      "\u001b[?25hCollecting azure-mgmt-iothub~=0.5.0 (from azure-mgmt~=4.0->azure)\n",
      "\u001b[?25l  Downloading https://files.pythonhosted.org/packages/19/d6/b422df467b3d7f4e2975b590fbf6e12aaae0a497c7d080b4955a6a6d794a/azure_mgmt_iothub-0.5.0-py2.py3-none-any.whl (102kB)\n",
      "\u001b[K    100% |████████████████████████████████| 112kB 41.6MB/s ta 0:00:01\n",
      "\u001b[?25hCollecting azure-mgmt-logic~=3.0 (from azure-mgmt~=4.0->azure)\n",
      "\u001b[?25l  Downloading https://files.pythonhosted.org/packages/88/98/693c515e97043520f5cebf1ecae7bf198df100f5f9870b53d4be3bcaa5ce/azure_mgmt_logic-3.0.0-py2.py3-none-any.whl (303kB)\n",
      "\u001b[K    100% |████████████████████████████████| 307kB 45.6MB/s ta 0:00:01\n",
      "\u001b[?25hCollecting azure-mgmt-rdbms~=1.2 (from azure-mgmt~=4.0->azure)\n",
      "\u001b[?25l  Downloading https://files.pythonhosted.org/packages/6e/87/3242598679009d51e1661747cfac13f68e419ebbb00e7957a5925695b607/azure_mgmt_rdbms-1.7.0-py2.py3-none-any.whl (254kB)\n",
      "\u001b[K    100% |████████████████████████████████| 256kB 46.8MB/s ta 0:00:01\n",
      "\u001b[?25hCollecting azure-mgmt-subscription~=0.2.0 (from azure-mgmt~=4.0->azure)\n",
      "\u001b[?25l  Downloading https://files.pythonhosted.org/packages/27/72/f63f72d9c27659f96aae287f7ba67c9ba2877213c2c10d8b797e0dee5059/azure_mgmt_subscription-0.2.0-py2.py3-none-any.whl (40kB)\n",
      "\u001b[K    100% |████████████████████████████████| 40kB 30.3MB/s ta 0:00:01\n",
      "\u001b[?25hCollecting azure-mgmt-datalake-analytics~=0.6.0 (from azure-mgmt~=4.0->azure)\n",
      "\u001b[?25l  Downloading https://files.pythonhosted.org/packages/73/e7/5d909ef5812fc31f2871f3510ef43af93157ba51be03b6f798afba7a29d8/azure_mgmt_datalake_analytics-0.6.0-py2.py3-none-any.whl (288kB)\n",
      "\u001b[K    100% |████████████████████████████████| 296kB 47.0MB/s ta 0:00:01\n",
      "\u001b[?25hCollecting azure-mgmt-managementgroups~=0.1.0 (from azure-mgmt~=4.0->azure)\n",
      "\u001b[?25l  Downloading https://files.pythonhosted.org/packages/f2/50/591adac2a6cd8d77cccd38bdf5d177ad6a2e95b9217daa9a60b5d86de5cd/azure_mgmt_managementgroups-0.1.0-py2.py3-none-any.whl (59kB)\n",
      "\u001b[K    100% |████████████████████████████████| 61kB 37.3MB/s ta 0:00:01\n",
      "\u001b[?25hCollecting azure-mgmt-scheduler~=2.0 (from azure-mgmt~=4.0->azure)\n",
      "\u001b[?25l  Downloading https://files.pythonhosted.org/packages/e8/55/f3490698ff622244438e667e0321808e84389e69c5fb77a1d6db869d9bb7/azure_mgmt_scheduler-2.0.0-py2.py3-none-any.whl (67kB)\n",
      "\u001b[K    100% |████████████████████████████████| 71kB 39.5MB/s ta 0:00:01\n",
      "\u001b[?25hCollecting azure-mgmt-maps~=0.1.0 (from azure-mgmt~=4.0->azure)\n",
      "  Downloading https://files.pythonhosted.org/packages/e4/04/c64326729e842f3eab1fd527f7582e269e4b0e5b9324a4562edaf0371953/azure_mgmt_maps-0.1.0-py2.py3-none-any.whl\n",
      "Collecting azure-mgmt-trafficmanager~=0.50.0 (from azure-mgmt~=4.0->azure)\n",
      "\u001b[?25l  Downloading https://files.pythonhosted.org/packages/ed/4f/c322d72dc92dde543471bc23f9ac0eb6b9d0dc2441bb5ce938250040e307/azure_mgmt_trafficmanager-0.50.0-py2.py3-none-any.whl (52kB)\n",
      "\u001b[K    100% |████████████████████████████████| 61kB 38.5MB/s ta 0:00:01\n",
      "\u001b[?25hCollecting azure-mgmt-applicationinsights~=0.1.1 (from azure-mgmt~=4.0->azure)\n",
      "\u001b[?25l  Downloading https://files.pythonhosted.org/packages/30/61/1d95a5ef3a9119a0d375d8670129375515de20e20409612e9671c99bd19f/azure_mgmt_applicationinsights-0.1.1-py2.py3-none-any.whl (42kB)\n",
      "\u001b[K    100% |████████████████████████████████| 51kB 5.6MB/s eta 0:00:01\n",
      "\u001b[?25hCollecting azure-mgmt-relay~=0.1.0 (from azure-mgmt~=4.0->azure)\n",
      "  Downloading https://files.pythonhosted.org/packages/00/f7/f5c72bd19829cfaf9f070ec294c901ad7f98835ba9560fdad652afb1071f/azure_mgmt_relay-0.1.0-py2.py3-none-any.whl\n",
      "Collecting azure-mgmt-reservations~=0.2.1 (from azure-mgmt~=4.0->azure)\n",
      "\u001b[?25l  Downloading https://files.pythonhosted.org/packages/a9/2b/e0edb8dbe85e447005cde508b869e564f58270f631219f036d8ab71184f9/azure_mgmt_reservations-0.2.1-py2.py3-none-any.whl (50kB)\n",
      "\u001b[K    100% |████████████████████████████████| 51kB 33.0MB/s ta 0:00:01\n",
      "\u001b[?25hCollecting azure-mgmt-cognitiveservices~=3.0 (from azure-mgmt~=4.0->azure)\n",
      "\u001b[?25l  Downloading https://files.pythonhosted.org/packages/8d/c8/222ea2f533c6b8f8656f3091101b4c3aa32c162d2a609d07d1ae00172515/azure_mgmt_cognitiveservices-3.0.0-py2.py3-none-any.whl (58kB)\n",
      "\u001b[K    100% |████████████████████████████████| 61kB 35.8MB/s ta 0:00:01\n",
      "\u001b[?25hCollecting azure-mgmt-web~=0.35.0 (from azure-mgmt~=4.0->azure)\n",
      "\u001b[?25l  Downloading https://files.pythonhosted.org/packages/21/04/3f2622720664c972d927fd9e58c0066e998739b7891649207765be674126/azure_mgmt_web-0.35.0-py2.py3-none-any.whl (358kB)\n",
      "\u001b[K    100% |████████████████████████████████| 368kB 45.7MB/s ta 0:00:01\n",
      "\u001b[?25hCollecting azure-mgmt-servicefabric~=0.2.0 (from azure-mgmt~=4.0->azure)\n",
      "\u001b[?25l  Downloading https://files.pythonhosted.org/packages/6e/06/fafe8b5d881cfa68927e61557c8419dcfacb93e07f4ab17cc60959707a53/azure_mgmt_servicefabric-0.2.0-py2.py3-none-any.whl (142kB)\n",
      "\u001b[K    100% |████████████████████████████████| 143kB 50.2MB/s ta 0:00:01\n",
      "\u001b[?25hCollecting azure-mgmt-monitor~=0.5.2 (from azure-mgmt~=4.0->azure)\n",
      "\u001b[?25l  Downloading https://files.pythonhosted.org/packages/6a/3b/a8b95ee25f1c209ad82ad06de39f4efbfb9dc8a8dc5da5a7a48d7897bf3e/azure_mgmt_monitor-0.5.2-py2.py3-none-any.whl (247kB)\n",
      "\u001b[K    100% |████████████████████████████████| 256kB 48.3MB/s ta 0:00:01\n",
      "\u001b[?25hCollecting azure-mgmt-iotcentral~=0.1.0 (from azure-mgmt~=4.0->azure)\n",
      "  Downloading https://files.pythonhosted.org/packages/58/4e/e2e5f2d545a46ada3705c85c45c12882a443d40f60e1a908c78058e15cf2/azure_mgmt_iotcentral-0.1.0-py2.py3-none-any.whl\n",
      "Collecting azure-mgmt-dns~=2.0 (from azure-mgmt~=4.0->azure)\n",
      "\u001b[?25l  Downloading https://files.pythonhosted.org/packages/c7/d7/0f986a64b06db93cf29b76f9a188f5778eb959624a00ed6aedc335ee58d2/azure_mgmt_dns-2.1.0-py2.py3-none-any.whl (134kB)\n",
      "\u001b[K    100% |████████████████████████████████| 143kB 41.0MB/s ta 0:00:01\n",
      "\u001b[?25hCollecting azure-mgmt-notificationhubs~=2.0 (from azure-mgmt~=4.0->azure)\n",
      "\u001b[?25l  Downloading https://files.pythonhosted.org/packages/b1/7f/283067cf30dd72707bbdfa608838509663328e533d7e362f7630c785679c/azure_mgmt_notificationhubs-2.0.0-py2.py3-none-any.whl (71kB)\n",
      "\u001b[K    100% |████████████████████████████████| 81kB 43.3MB/s ta 0:00:01\n",
      "\u001b[?25hCollecting azure-mgmt-eventhub~=2.1 (from azure-mgmt~=4.0->azure)\n",
      "\u001b[?25l  Downloading https://files.pythonhosted.org/packages/f4/93/c194d422cbd6e4a8ea1ef6d95ae372d3558aea01b6a5f345794195cba449/azure_mgmt_eventhub-2.4.0-py2.py3-none-any.whl (193kB)\n",
      "\u001b[K    100% |████████████████████████████████| 194kB 47.8MB/s ta 0:00:01\n",
      "\u001b[?25hCollecting azure-mgmt-billing~=0.2.0 (from azure-mgmt~=4.0->azure)\n",
      "  Downloading https://files.pythonhosted.org/packages/0f/24/5106287ea0f6562d965afb055e3c6c0da058f7844a70464e67bab56c6c4b/azure_mgmt_billing-0.2.0-py2.py3-none-any.whl\n",
      "Collecting azure-mgmt-recoveryservices~=0.3.0 (from azure-mgmt~=4.0->azure)\n",
      "\u001b[?25l  Downloading https://files.pythonhosted.org/packages/fd/7f/80327a27e03473101afb136e872279ad1386adf1bac14a58a9f839cd8352/azure_mgmt_recoveryservices-0.3.0-py2.py3-none-any.whl (70kB)\n",
      "\u001b[K    100% |████████████████████████████████| 71kB 13.6MB/s ta 0:00:01\n",
      "\u001b[?25hRequirement already satisfied: PyJWT>=1.0.0 in /data/anaconda/envs/py36/lib/python3.6/site-packages (from adal>=0.4.2->azure-datalake-store~=0.0.18->azure) (1.7.0)\n",
      "Requirement already satisfied: pycparser in /data/anaconda/envs/py36/lib/python3.6/site-packages (from cffi->azure-datalake-store~=0.0.18->azure) (2.19)\n",
      "Requirement already satisfied: idna<2.8,>=2.5 in /data/anaconda/envs/py36/lib/python3.6/site-packages (from requests>=2.20.0->azure-datalake-store~=0.0.18->azure) (2.7)\n",
      "Requirement already satisfied: certifi>=2017.4.17 in /data/anaconda/envs/py36/lib/python3.6/site-packages (from requests>=2.20.0->azure-datalake-store~=0.0.18->azure) (2018.10.15)\n",
      "Requirement already satisfied: chardet<3.1.0,>=3.0.2 in /data/anaconda/envs/py36/lib/python3.6/site-packages (from requests>=2.20.0->azure-datalake-store~=0.0.18->azure) (3.0.4)\n",
      "Requirement already satisfied: urllib3<1.25,>=1.21.1 in /data/anaconda/envs/py36/lib/python3.6/site-packages (from requests>=2.20.0->azure-datalake-store~=0.0.18->azure) (1.23)\n",
      "Requirement already satisfied: six>=1.5 in /data/anaconda/envs/py36/lib/python3.6/site-packages (from python-dateutil->azure-cosmosdb-table~=1.0->azure) (1.11.0)\n",
      "Requirement already satisfied: asn1crypto>=0.21.0 in /data/anaconda/envs/py36/lib/python3.6/site-packages (from cryptography->azure-cosmosdb-table~=1.0->azure) (0.24.0)\n",
      "Requirement already satisfied: requests-oauthlib>=0.5.0 in /data/anaconda/envs/py36/lib/python3.6/site-packages (from msrest>=0.5.0->azure-keyvault~=1.0->azure) (1.0.0)\n",
      "Requirement already satisfied: isodate>=0.6.0 in /data/anaconda/envs/py36/lib/python3.6/site-packages (from msrest>=0.5.0->azure-keyvault~=1.0->azure) (0.6.0)\n"
     ]
    },
    {
     "name": "stdout",
     "output_type": "stream",
     "text": [
      "Requirement already satisfied: azure-mgmt-nspkg>=2.0.0 in /data/anaconda/envs/py36/lib/python3.6/site-packages (from azure-mgmt-cosmosdb~=0.4.1->azure-mgmt~=4.0->azure) (3.0.2)\n",
      "Collecting azure-mgmt-datalake-nspkg>=2.0.0 (from azure-mgmt-datalake-store~=0.5.0->azure-mgmt~=4.0->azure)\n",
      "  Downloading https://files.pythonhosted.org/packages/48/3d/c65a520d93448923a96784582a0deafaae096cb37b444ae5d63b57f0562d/azure_mgmt_datalake_nspkg-3.0.1-py3-none-any.whl\n",
      "Requirement already satisfied: oauthlib>=0.6.2 in /data/anaconda/envs/py36/lib/python3.6/site-packages (from requests-oauthlib>=0.5.0->msrest>=0.5.0->azure-keyvault~=1.0->azure) (2.1.0)\n",
      "Installing collected packages: azure-storage-file, azure-datalake-store, azure-cosmosdb-nspkg, azure-cosmosdb-table, azure-keyvault, azure-servicemanagement-legacy, azure-servicefabric, azure-servicebus, azure-batch, azure-storage-queue, azure-loganalytics, azure-eventgrid, azure-graphrbac, azure-mgmt-cosmosdb, azure-mgmt-authorization, azure-mgmt-servicebus, azure-mgmt-devtestlabs, azure-mgmt-managementpartner, azure-mgmt-media, azure-mgmt-storage, azure-mgmt-eventgrid, azure-mgmt-iothubprovisioningservices, azure-mgmt-policyinsights, azure-mgmt-batch, azure-mgmt-datafactory, azure-mgmt-recoveryservicesbackup, azure-mgmt-advisor, azure-mgmt-containerinstance, azure-mgmt-datalake-nspkg, azure-mgmt-datalake-store, azure-mgmt-loganalytics, azure-mgmt-powerbiembedded, azure-mgmt-machinelearningcompute, azure-mgmt-cdn, azure-mgmt-compute, azure-mgmt-sql, azure-mgmt-hanaonazure, azure-mgmt-signalr, azure-mgmt-redis, azure-mgmt-marketplaceordering, azure-mgmt-msi, azure-mgmt-commerce, azure-mgmt-consumption, azure-mgmt-containerservice, azure-mgmt-search, azure-mgmt-datamigration, azure-mgmt-devspaces, azure-mgmt-network, azure-mgmt-batchai, azure-mgmt-iothub, azure-mgmt-logic, azure-mgmt-rdbms, azure-mgmt-subscription, azure-mgmt-datalake-analytics, azure-mgmt-managementgroups, azure-mgmt-scheduler, azure-mgmt-maps, azure-mgmt-trafficmanager, azure-mgmt-applicationinsights, azure-mgmt-relay, azure-mgmt-reservations, azure-mgmt-cognitiveservices, azure-mgmt-web, azure-mgmt-servicefabric, azure-mgmt-monitor, azure-mgmt-iotcentral, azure-mgmt-dns, azure-mgmt-notificationhubs, azure-mgmt-eventhub, azure-mgmt-billing, azure-mgmt-recoveryservices, azure-mgmt, azure-applicationinsights, azure\n",
      "  Found existing installation: azure-graphrbac 0.53.0\n",
      "    Uninstalling azure-graphrbac-0.53.0:\n",
      "      Successfully uninstalled azure-graphrbac-0.53.0\n",
      "  Found existing installation: azure-mgmt-authorization 0.51.1\n",
      "    Uninstalling azure-mgmt-authorization-0.51.1:\n",
      "      Successfully uninstalled azure-mgmt-authorization-0.51.1\n",
      "  Found existing installation: azure-mgmt-storage 3.1.0\n",
      "    Uninstalling azure-mgmt-storage-3.1.0:\n",
      "      Successfully uninstalled azure-mgmt-storage-3.1.0\n",
      "Successfully installed azure-4.0.0 azure-applicationinsights-0.1.0 azure-batch-4.1.3 azure-cosmosdb-nspkg-2.0.2 azure-cosmosdb-table-1.0.5 azure-datalake-store-0.0.44 azure-eventgrid-1.2.0 azure-graphrbac-0.40.0 azure-keyvault-1.1.0 azure-loganalytics-0.1.0 azure-mgmt-4.0.0 azure-mgmt-advisor-1.0.1 azure-mgmt-applicationinsights-0.1.1 azure-mgmt-authorization-0.50.0 azure-mgmt-batch-5.0.1 azure-mgmt-batchai-2.0.0 azure-mgmt-billing-0.2.0 azure-mgmt-cdn-3.1.0 azure-mgmt-cognitiveservices-3.0.0 azure-mgmt-commerce-1.0.1 azure-mgmt-compute-4.4.0 azure-mgmt-consumption-2.0.0 azure-mgmt-containerinstance-1.4.0 azure-mgmt-containerservice-4.4.0 azure-mgmt-cosmosdb-0.4.1 azure-mgmt-datafactory-0.6.0 azure-mgmt-datalake-analytics-0.6.0 azure-mgmt-datalake-nspkg-3.0.1 azure-mgmt-datalake-store-0.5.0 azure-mgmt-datamigration-1.0.0 azure-mgmt-devspaces-0.1.0 azure-mgmt-devtestlabs-2.2.0 azure-mgmt-dns-2.1.0 azure-mgmt-eventgrid-1.0.0 azure-mgmt-eventhub-2.4.0 azure-mgmt-hanaonazure-0.1.1 azure-mgmt-iotcentral-0.1.0 azure-mgmt-iothub-0.5.0 azure-mgmt-iothubprovisioningservices-0.2.0 azure-mgmt-loganalytics-0.2.0 azure-mgmt-logic-3.0.0 azure-mgmt-machinelearningcompute-0.4.1 azure-mgmt-managementgroups-0.1.0 azure-mgmt-managementpartner-0.1.0 azure-mgmt-maps-0.1.0 azure-mgmt-marketplaceordering-0.1.0 azure-mgmt-media-1.0.0 azure-mgmt-monitor-0.5.2 azure-mgmt-msi-0.2.0 azure-mgmt-network-2.5.1 azure-mgmt-notificationhubs-2.0.0 azure-mgmt-policyinsights-0.1.0 azure-mgmt-powerbiembedded-2.0.0 azure-mgmt-rdbms-1.7.0 azure-mgmt-recoveryservices-0.3.0 azure-mgmt-recoveryservicesbackup-0.3.0 azure-mgmt-redis-5.0.0 azure-mgmt-relay-0.1.0 azure-mgmt-reservations-0.2.1 azure-mgmt-scheduler-2.0.0 azure-mgmt-search-2.0.0 azure-mgmt-servicebus-0.5.3 azure-mgmt-servicefabric-0.2.0 azure-mgmt-signalr-0.1.1 azure-mgmt-sql-0.9.1 azure-mgmt-storage-2.0.0 azure-mgmt-subscription-0.2.0 azure-mgmt-trafficmanager-0.50.0 azure-mgmt-web-0.35.0 azure-servicebus-0.21.1 azure-servicefabric-6.3.0.0 azure-servicemanagement-legacy-0.20.6 azure-storage-file-1.4.0 azure-storage-queue-1.4.0\n"
     ]
    }
   ],
   "source": [
    "#! pip install azure"
   ]
  },
  {
   "cell_type": "code",
   "execution_count": 1,
   "metadata": {},
   "outputs": [],
   "source": [
    "from PIL import Image"
   ]
  },
  {
   "cell_type": "code",
   "execution_count": 46,
   "metadata": {},
   "outputs": [
    {
     "name": "stdout",
     "output_type": "stream",
     "text": [
      "Creating project...\n"
     ]
    }
   ],
   "source": [
    "from azure.cognitiveservices.vision.customvision.training import CustomVisionTrainingClient\n",
    "from azure.cognitiveservices.vision.customvision.training.models import ImageFileCreateEntry\n",
    "\n",
    "ENDPOINT = \"https://southcentralus.api.cognitive.microsoft.com\"\n",
    "\n",
    "# Replace with a valid key\n",
    "training_key = \"112696602d41476fb71828087b0322fe\"\n",
    "prediction_key = \"8af2c213f6214d2ba569b36069be92f7\"\n",
    "\n",
    "trainer = CustomVisionTrainingClient(training_key, endpoint=ENDPOINT)\n",
    "\n",
    "# Create a new project\n",
    "print (\"Creating project...\")\n",
    "project = trainer.create_project(\"My New Project\")"
   ]
  },
  {
   "cell_type": "code",
   "execution_count": 47,
   "metadata": {},
   "outputs": [
    {
     "data": {
      "text/plain": [
       "'b7ceaf48-728b-4a05-ad35-a23c744f4e96'"
      ]
     },
     "execution_count": 47,
     "metadata": {},
     "output_type": "execute_result"
    }
   ],
   "source": [
    "project.id"
   ]
  },
  {
   "cell_type": "code",
   "execution_count": 48,
   "metadata": {},
   "outputs": [],
   "source": [
    "# Make two tags in the new project\n",
    "hardshell_tag = trainer.create_tag(project.id, \"hardshell_jackets\")\n",
    "insultate_tag = trainer.create_tag(project.id, \"insulated_jackets\")\n",
    "\n",
    "tag_dict={}\n",
    "tag_dict['hardshell_jackets']=hardshell_tag\n",
    "tag_dict['insulated_jackets']=insultate_tag"
   ]
  },
  {
   "cell_type": "code",
   "execution_count": 49,
   "metadata": {},
   "outputs": [
    {
     "name": "stdout",
     "output_type": "stream",
     "text": [
      "{'additional_properties': {}, 'id': '590c1423-c094-4980-a4f6-83d0d81f9783', 'name': 'insulated_jackets', 'description': None, 'type': 'Regular', 'image_count': 0}\n"
     ]
    }
   ],
   "source": [
    "print(insultate_tag)"
   ]
  },
  {
   "cell_type": "code",
   "execution_count": 50,
   "metadata": {
    "scrolled": false
   },
   "outputs": [],
   "source": [
    "import os\n",
    "import numpy as np\n",
    "#from io import \n",
    "\n",
    "image_entry = lambda file_name, image_bytes_array, tag_id: ImageFileCreateEntry(\n",
    "    name=file_name, contents=image_bytes_array, tag_ids=[tag_id])\n",
    "\n",
    "mother_dir='gear_images'\n",
    "    \n",
    "    \n",
    "temp_image_list=[]\n",
    "\n",
    "for folder in ['hardshell_jackets','insulated_jackets']:\n",
    "    for img in os.listdir(os.path.join(mother_dir,folder))[:20]:\n",
    "        #img=Image.open()\n",
    "        #print()\n",
    "        with open(os.path.join(mother_dir,folder,img), \"rb\") as image:\n",
    "            f = image.read()\n",
    "            img_bytes_array = bytearray(f)\n",
    "            #print(img_bytes_array)\n",
    "            temp_image_list.append(ImageFileCreateEntry(name=img, contents=img_bytes_array, tag_ids=[tag_dict[folder].id]))\n",
    "        "
   ]
  },
  {
   "cell_type": "code",
   "execution_count": 51,
   "metadata": {},
   "outputs": [
    {
     "data": {
      "text/plain": [
       "<azure.cognitiveservices.vision.customvision.training.models.image_create_summary_py3.ImageCreateSummary at 0x7ffb850b8898>"
      ]
     },
     "execution_count": 51,
     "metadata": {},
     "output_type": "execute_result"
    }
   ],
   "source": [
    "trainer.create_images_from_files(project.id, images=temp_image_list)"
   ]
  },
  {
   "cell_type": "code",
   "execution_count": 52,
   "metadata": {},
   "outputs": [
    {
     "name": "stdout",
     "output_type": "stream",
     "text": [
      "Training...\n",
      "Training status: Training\n",
      "Training status: Training\n",
      "Training status: Training\n",
      "Training status: Training\n",
      "Training status: Training\n",
      "Training status: Training\n",
      "Training status: Completed\n",
      "Done!\n"
     ]
    }
   ],
   "source": [
    "import time\n",
    "\n",
    "print (\"Training...\")\n",
    "iteration = trainer.train_project(project.id)\n",
    "while (iteration.status != \"Completed\"):\n",
    "    iteration = trainer.get_iteration(project.id, iteration.id)\n",
    "    print (\"Training status: \" + iteration.status)\n",
    "    time.sleep(1)\n",
    "\n",
    "# The iteration is now trained. Make it the default project endpoint\n",
    "trainer.update_iteration(project.id, iteration.id, is_default=True)\n",
    "print (\"Done!\")"
   ]
  },
  {
   "cell_type": "code",
   "execution_count": 87,
   "metadata": {},
   "outputs": [
    {
     "name": "stdout",
     "output_type": "stream",
     "text": [
      "True\n"
     ]
    },
    {
     "data": {
      "image/png": "[encoded data removed]",
      "text/plain": [
       "<PIL.JpegImagePlugin.JpegImageFile image mode=RGB size=134x230 at 0x7FFB7BC12BE0>"
      ]
     },
     "execution_count": 87,
     "metadata": {},
     "output_type": "execute_result"
    }
   ],
   "source": [
    "import pathlib\n",
    "\n",
    "imgpath=pathlib.Path('gear_images/hardshell_jackets/101634.jpeg')\n",
    "print(imgpath.exists())\n",
    "\n",
    "Image.open(imgpath)"
   ]
  },
  {
   "cell_type": "code",
   "execution_count": 55,
   "metadata": {},
   "outputs": [
    {
     "name": "stdout",
     "output_type": "stream",
     "text": [
      "\thardshell_jackets: 99.70%\n",
      "\tinsulated_jackets: 0.06%\n"
     ]
    }
   ],
   "source": [
    "from azure.cognitiveservices.vision.customvision.prediction import CustomVisionPredictionClient\n",
    "\n",
    "# Now there is a trained endpoint that can be used to make a prediction\n",
    "\n",
    "predictor = CustomVisionPredictionClient(prediction_key, endpoint=ENDPOINT)\n",
    "\n",
    "with open(test_img, mode=\"rb\") as test_data:\n",
    "    results = predictor.predict_image(project.id, test_data)\n",
    "\n",
    "# Display the results.\n",
    "for prediction in results.predictions:\n",
    "    print (\"\\t\" + prediction.tag_name + \": {0:.2f}%\".format(prediction.probability * 100))"
   ]
  },
  {
   "cell_type": "code",
   "execution_count": 100,
   "metadata": {},
   "outputs": [],
   "source": [
    "test_set=[]\n",
    "for cat in ['hardshell_jackets','insulated_jackets']:\n",
    "    file_names=[]\n",
    "    thepath=os.path.join('gear_images',cat)\n",
    "    #print(type(thepath))\n",
    "    full_list=os.listdir(thepath)\n",
    "    for ind in np.random.randint(0,len(full_list),5):\n",
    "        file_names.append(full_list[ind])\n",
    "    for file in file_names:\n",
    "        test_set.append('gear_images/{}/{}'.format(cat,file))"
   ]
  },
  {
   "cell_type": "code",
   "execution_count": 101,
   "metadata": {},
   "outputs": [
    {
     "data": {
      "text/plain": [
       "['gear_images/hardshell_jackets/112126.jpeg',\n",
       " 'gear_images/hardshell_jackets/10317665x1012905_zm.jpeg',\n",
       " 'gear_images/hardshell_jackets/10116634x1038116_zm.jpeg',\n",
       " 'gear_images/hardshell_jackets/10237625x1068072_zm.jpeg',\n",
       " 'gear_images/hardshell_jackets/10329536x1128779_zm.jpeg',\n",
       " 'gear_images/insulated_jackets/10342603x1063468_zm.jpeg',\n",
       " 'gear_images/insulated_jackets/866332.jpeg',\n",
       " 'gear_images/insulated_jackets/10312878x1038337_zm.jpeg',\n",
       " 'gear_images/insulated_jackets/10344854x1150806_zm.jpeg',\n",
       " 'gear_images/insulated_jackets/10252804x1149856_zm.jpeg']"
      ]
     },
     "execution_count": 101,
     "metadata": {},
     "output_type": "execute_result"
    }
   ],
   "source": [
    "test_set"
   ]
  },
  {
   "cell_type": "code",
   "execution_count": 102,
   "metadata": {},
   "outputs": [
    {
     "name": "stdout",
     "output_type": "stream",
     "text": [
      "gear_images/hardshell_jackets/112126.jpeg\n",
      "\thardshell_jackets: 98.86%\n",
      "\tinsulated_jackets: 0.16%\n",
      "gear_images/hardshell_jackets/10317665x1012905_zm.jpeg\n",
      "\thardshell_jackets: 100.00%\n",
      "\tinsulated_jackets: 0.00%\n",
      "gear_images/hardshell_jackets/10116634x1038116_zm.jpeg\n",
      "\thardshell_jackets: 99.73%\n",
      "\tinsulated_jackets: 0.17%\n",
      "gear_images/hardshell_jackets/10237625x1068072_zm.jpeg\n",
      "\thardshell_jackets: 98.72%\n",
      "\tinsulated_jackets: 3.03%\n",
      "gear_images/hardshell_jackets/10329536x1128779_zm.jpeg\n",
      "\thardshell_jackets: 99.90%\n",
      "\tinsulated_jackets: 0.09%\n",
      "gear_images/insulated_jackets/10342603x1063468_zm.jpeg\n",
      "\tinsulated_jackets: 100.00%\n",
      "\thardshell_jackets: 0.00%\n",
      "gear_images/insulated_jackets/866332.jpeg\n",
      "\tinsulated_jackets: 98.71%\n",
      "\thardshell_jackets: 0.18%\n",
      "gear_images/insulated_jackets/10312878x1038337_zm.jpeg\n",
      "\tinsulated_jackets: 100.00%\n",
      "\thardshell_jackets: 0.00%\n",
      "gear_images/insulated_jackets/10344854x1150806_zm.jpeg\n",
      "\tinsulated_jackets: 100.00%\n",
      "\thardshell_jackets: 0.00%\n",
      "gear_images/insulated_jackets/10252804x1149856_zm.jpeg\n",
      "\tinsulated_jackets: 100.00%\n",
      "\thardshell_jackets: 0.00%\n"
     ]
    }
   ],
   "source": [
    "for img in test_set:\n",
    "    \n",
    "    test_img=pathlib.Path(img)\n",
    "    \n",
    "    if test_img.exists():\n",
    "    \n",
    "        with open(test_img, mode=\"rb\") as test_data:\n",
    "            results = predictor.predict_image(project.id, test_data)\n",
    "\n",
    "        # Display the results.\n",
    "            print (test_img)\n",
    "            for prediction in results.predictions:\n",
    "                print (\"\\t\" + prediction.tag_name + \": {0:.2f}%\".format(prediction.probability * 100))\n",
    "            \n",
    "            print('/n')"
   ]
  },
  {
   "cell_type": "code",
   "execution_count": 103,
   "metadata": {},
   "outputs": [],
   "source": [
    "#notes from talk\n",
    "\n",
    "#convolution\n",
    "#pattern match by matrix dot product. then by adding\n",
    "#do response map smaller and smaller\n",
    "#down sampling\n",
    "\n",
    "#lime -> helps understand convo\n",
    "#--->model learning white space"
   ]
  },
  {
   "cell_type": "code",
   "execution_count": null,
   "metadata": {},
   "outputs": [],
   "source": []
  }
 ],
 "metadata": {
  "kernelspec": {
   "display_name": "Python 3.6 - AzureML",
   "language": "python",
   "name": "python3-azureml"
  },
  "language_info": {
   "codemirror_mode": {
    "name": "ipython",
    "version": 3
   },
   "file_extension": ".py",
   "mimetype": "text/x-python",
   "name": "python",
   "nbconvert_exporter": "python",
   "pygments_lexer": "ipython3",
   "version": "3.6.7"
  }
 },
 "nbformat": 4,
 "nbformat_minor": 2
}
