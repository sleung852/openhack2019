{
 "cells": [
  {
   "cell_type": "code",
   "execution_count": 7,
   "metadata": {},
   "outputs": [
    {
     "name": "stdout",
     "output_type": "stream",
     "text": [
      "Cloning into 'pytorch-faster-rcnn'...\n",
      "remote: Enumerating objects: 2297, done.\u001b[K\n",
      "remote: Total 2297 (delta 0), reused 0 (delta 0), pack-reused 2297\u001b[K\n",
      "Receiving objects: 100% (2297/2297), 16.63 MiB | 0 bytes/s, done.\n",
      "Resolving deltas: 100% (1550/1550), done.\n",
      "Checking connectivity... done.\n"
     ]
    }
   ],
   "source": [
    "\n",
    "!git clone https://github.com/ruotianluo/pytorch-faster-rcnn.git"
   ]
  },
  {
   "cell_type": "code",
   "execution_count": 15,
   "metadata": {},
   "outputs": [
    {
     "name": "stdout",
     "output_type": "stream",
     "text": [
      "0.jpg\t\t  myenv1.yml\t\t   Task 1.ipynb\r\n",
      "123.yml\t\t  myenv2.yml\t\t   Task 2.ipynb\r\n",
      "1.jpg\t\t  myenv.yml\t\t   Task 3 & 4.ipynb\r\n",
      "cfg\t\t  notes.txt\t\t   Task 3 - Using Keras.ipynb\r\n",
      "coco\t\t  pytorch-faster-rcnn\t   Task 5 - Deploy Model.ipynb\r\n",
      "data\t\t  resized_images\t   Task 6.ipynb\r\n",
      "data.csv\t  safety_images\t\t   Task 7.ipynb\r\n",
      "environment.yml   safety_images.zip\t   vgg16.pth\r\n",
      "gear_images\t  script.py\t\t   yolov3.cfg\r\n",
      "gear_images.zip   tags.csv\r\n",
      "model_freeze.pth  Task 1 - DataPrep.ipynb\r\n"
     ]
    }
   ],
   "source": []
  },
  {
   "cell_type": "code",
   "execution_count": null,
   "metadata": {},
   "outputs": [],
   "source": []
  }
 ],
 "metadata": {
  "kernelspec": {
   "display_name": "Python 3.6 - AzureML",
   "language": "python",
   "name": "python3-azureml"
  },
  "language_info": {
   "codemirror_mode": {
    "name": "ipython",
    "version": 3
   },
   "file_extension": ".py",
   "mimetype": "text/x-python",
   "name": "python",
   "nbconvert_exporter": "python",
   "pygments_lexer": "ipython3",
   "version": "3.6.7"
  }
 },
 "nbformat": 4,
 "nbformat_minor": 2
}
