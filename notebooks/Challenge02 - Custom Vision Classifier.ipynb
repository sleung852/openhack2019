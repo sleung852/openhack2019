{
 "cells": [
  {
   "cell_type": "markdown",
   "metadata": {},
   "source": [
    "# Challenge 2 - Custom Vision Cognitive Service\n",
    "First create an account at https://customvision.ai\n",
    "Then modify the service keys below:"
   ]
  },
  {
   "cell_type": "code",
   "execution_count": 1,
   "metadata": {},
   "outputs": [],
   "source": [
    "TRAINING_KEY = 'YOUR_KEY'\n",
    "PREDICTION_KEY = 'YOUR_KEY'\n",
    "ENDPOINT='https://southcentralus.api.cognitive.microsoft.com' # If necessary, change to match your Azure service location"
   ]
  },
  {
   "cell_type": "code",
   "execution_count": 2,
   "metadata": {
    "scrolled": false
   },
   "outputs": [
    {
     "name": "stdout",
     "output_type": "stream",
     "text": [
      "Collecting azure-cognitiveservices-vision-customvision\n",
      "\u001b[?25l  Downloading https://files.pythonhosted.org/packages/20/a4/869552805373199b1dc026c5317e9e936d2e0302e2c09636d917a89b9d2d/azure_cognitiveservices_vision_customvision-0.4.0-py2.py3-none-any.whl (93kB)\n",
      "\u001b[K    100% |████████████████████████████████| 102kB 4.6MB/s a 0:00:011\n",
      "\u001b[?25hCollecting msrest>=0.5.0 (from azure-cognitiveservices-vision-customvision)\n",
      "\u001b[?25l  Downloading https://files.pythonhosted.org/packages/d5/40/70e545b7a5b0509273c6fe981118fb64e389fe013504b1c22a24fec4d1d9/msrest-0.6.2-py2.py3-none-any.whl (81kB)\n",
      "\u001b[K    100% |████████████████████████████████| 81kB 16.9MB/s ta 0:00:01\n",
      "\u001b[?25hRequirement already satisfied: azure-common~=1.1 in /home/nbuser/anaconda3_420/lib/python3.5/site-packages (from azure-cognitiveservices-vision-customvision) (1.1.16)\n",
      "Collecting certifi>=2017.4.17 (from msrest>=0.5.0->azure-cognitiveservices-vision-customvision)\n",
      "  Using cached https://files.pythonhosted.org/packages/56/9d/1d02dd80bc4cd955f98980f28c5ee2200e1209292d5f9e9cc8d030d18655/certifi-2018.10.15-py2.py3-none-any.whl\n",
      "Collecting requests~=2.16 (from msrest>=0.5.0->azure-cognitiveservices-vision-customvision)\n",
      "  Using cached https://files.pythonhosted.org/packages/ff/17/5cbb026005115301a8fb2f9b0e3e8d32313142fe8b617070e7baad20554f/requests-2.20.1-py2.py3-none-any.whl\n",
      "Collecting isodate>=0.6.0 (from msrest>=0.5.0->azure-cognitiveservices-vision-customvision)\n",
      "\u001b[?25l  Downloading https://files.pythonhosted.org/packages/9b/9f/b36f7774ff5ea8e428fdcfc4bb332c39ee5b9362ddd3d40d9516a55221b2/isodate-0.6.0-py2.py3-none-any.whl (45kB)\n",
      "\u001b[K    100% |████████████████████████████████| 51kB 17.3MB/s ta 0:00:01\n",
      "\u001b[?25hCollecting requests-oauthlib>=0.5.0 (from msrest>=0.5.0->azure-cognitiveservices-vision-customvision)\n",
      "  Downloading https://files.pythonhosted.org/packages/94/e7/c250d122992e1561690d9c0f7856dadb79d61fd4bdd0e598087dce607f6c/requests_oauthlib-1.0.0-py2.py3-none-any.whl\n",
      "Requirement already satisfied: urllib3<1.25,>=1.21.1 in /home/nbuser/anaconda3_420/lib/python3.5/site-packages (from requests~=2.16->msrest>=0.5.0->azure-cognitiveservices-vision-customvision) (1.24.1)\n",
      "Requirement already satisfied: idna<2.8,>=2.5 in /home/nbuser/anaconda3_420/lib/python3.5/site-packages (from requests~=2.16->msrest>=0.5.0->azure-cognitiveservices-vision-customvision) (2.7)\n",
      "Collecting chardet<3.1.0,>=3.0.2 (from requests~=2.16->msrest>=0.5.0->azure-cognitiveservices-vision-customvision)\n",
      "  Using cached https://files.pythonhosted.org/packages/bc/a9/01ffebfb562e4274b6487b4bb1ddec7ca55ec7510b22e4c51f14098443b8/chardet-3.0.4-py2.py3-none-any.whl\n",
      "Requirement already satisfied: six in /home/nbuser/anaconda3_420/lib/python3.5/site-packages (from isodate>=0.6.0->msrest>=0.5.0->azure-cognitiveservices-vision-customvision) (1.11.0)\n",
      "Collecting oauthlib>=0.6.2 (from requests-oauthlib>=0.5.0->msrest>=0.5.0->azure-cognitiveservices-vision-customvision)\n",
      "\u001b[?25l  Downloading https://files.pythonhosted.org/packages/e6/d1/ddd9cfea3e736399b97ded5c2dd62d1322adef4a72d816f1ed1049d6a179/oauthlib-2.1.0-py2.py3-none-any.whl (121kB)\n",
      "\u001b[K    100% |████████████████████████████████| 122kB 20.3MB/s ta 0:00:01\n",
      "\u001b[?25hInstalling collected packages: certifi, chardet, requests, isodate, oauthlib, requests-oauthlib, msrest, azure-cognitiveservices-vision-customvision\n",
      "  Found existing installation: requests 2.14.2\n",
      "    Uninstalling requests-2.14.2:\n",
      "      Successfully uninstalled requests-2.14.2\n",
      "Successfully installed azure-cognitiveservices-vision-customvision-0.4.0 certifi-2018.10.15 chardet-3.0.4 isodate-0.6.0 msrest-0.6.2 oauthlib-2.1.0 requests-2.20.1 requests-oauthlib-1.0.0\n"
     ]
    }
   ],
   "source": [
    "# Install the Custom Vision SDK\n",
    "import sys\n",
    "! {sys.executable} -m pip install azure-cognitiveservices-vision-customvision"
   ]
  },
  {
   "cell_type": "markdown",
   "metadata": {},
   "source": [
    "## Create a Custom Vision project"
   ]
  },
  {
   "cell_type": "code",
   "execution_count": 3,
   "metadata": {},
   "outputs": [
    {
     "name": "stdout",
     "output_type": "stream",
     "text": [
      "Creating project...\n"
     ]
    }
   ],
   "source": [
    "from azure.cognitiveservices.vision.customvision.training import CustomVisionTrainingClient\n",
    "\n",
    "trainer = CustomVisionTrainingClient(TRAINING_KEY, endpoint=ENDPOINT)\n",
    "\n",
    "# Create a new project\n",
    "print (\"Creating project...\")\n",
    "project = trainer.create_project(\"Adventure Works\")"
   ]
  },
  {
   "cell_type": "markdown",
   "metadata": {},
   "source": [
    "## Add tags"
   ]
  },
  {
   "cell_type": "code",
   "execution_count": 4,
   "metadata": {},
   "outputs": [
    {
     "name": "stdout",
     "output_type": "stream",
     "text": [
      "Created tags\n"
     ]
    }
   ],
   "source": [
    "# Make two tags in the new project\n",
    "hardshell_tag = trainer.create_tag(project.id, \"Hardshell Jacket\")\n",
    "insulated_tag = trainer.create_tag(project.id, \"Insulated Jacket\")\n",
    "print('Created tags')"
   ]
  },
  {
   "cell_type": "markdown",
   "metadata": {},
   "source": [
    "## Upload training images"
   ]
  },
  {
   "cell_type": "code",
   "execution_count": 5,
   "metadata": {},
   "outputs": [
    {
     "name": "stdout",
     "output_type": "stream",
     "text": [
      "Added images.\n"
     ]
    }
   ],
   "source": [
    "import os\n",
    "# Get the first 100 hardshell jacket images\n",
    "hardshell_dir = \"resized_images/hardshell_jackets\"\n",
    "for image in os.listdir(hardshell_dir)[0:99]:\n",
    "    with open(os.path.join(hardshell_dir,image), mode=\"rb\") as img_data: \n",
    "        trainer.create_images_from_data(project.id, img_data.read(), [hardshell_tag.id])\n",
    "\n",
    "# Get the first 100 insulated jacket images\n",
    "insulated_dir = \"resized_images/insulated_jackets\"\n",
    "for image in os.listdir(insulated_dir)[0:99]:\n",
    "    with open(os.path.join(insulated_dir, image), mode=\"rb\") as img_data: \n",
    "        trainer.create_images_from_data(project.id, img_data.read(), [insulated_tag.id])\n",
    "        \n",
    "print('Added images.')"
   ]
  },
  {
   "cell_type": "markdown",
   "metadata": {},
   "source": [
    "## Train the project"
   ]
  },
  {
   "cell_type": "code",
   "execution_count": 6,
   "metadata": {},
   "outputs": [
    {
     "name": "stdout",
     "output_type": "stream",
     "text": [
      "Training...\n",
      "Training status: Training\n",
      "Training status: Training\n",
      "Training status: Training\n",
      "Training status: Training\n",
      "Training status: Training\n",
      "Training status: Training\n",
      "Training status: Training\n",
      "Training status: Training\n",
      "Training status: Training\n",
      "Training status: Training\n",
      "Training status: Training\n",
      "Training status: Training\n",
      "Training status: Training\n",
      "Training status: Training\n",
      "Training status: Training\n",
      "Training status: Training\n",
      "Training status: Completed\n",
      "Done!\n"
     ]
    }
   ],
   "source": [
    "import time\n",
    "\n",
    "print (\"Training...\")\n",
    "# Train the project, checking status every 1 second\n",
    "iteration = trainer.train_project(project.id)\n",
    "while (iteration.status == \"Training\"):\n",
    "    iteration = trainer.get_iteration(project.id, iteration.id)\n",
    "    print (\"Training status: \" + iteration.status)\n",
    "    time.sleep(1)\n",
    "\n",
    "# When the project is trained, make this iteration the default endpoint\n",
    "trainer.update_iteration(project.id, iteration.id, is_default=True)\n",
    "print (\"Done!\")"
   ]
  },
  {
   "cell_type": "markdown",
   "metadata": {},
   "source": [
    "## Use the project to classify test images"
   ]
  },
  {
   "cell_type": "code",
   "execution_count": 9,
   "metadata": {},
   "outputs": [],
   "source": [
    "def classify_image(img):\n",
    "    from azure.cognitiveservices.vision.customvision.prediction import CustomVisionPredictionClient\n",
    "    from azure.cognitiveservices.vision.customvision.prediction import models\n",
    "\n",
    "    predictor = CustomVisionPredictionClient(PREDICTION_KEY, endpoint=ENDPOINT)\n",
    "    \n",
    "    with open(img, 'rb') as f:\n",
    "        img_data = f.read()\n",
    "    \n",
    "    try:\n",
    "        # Get the predicted tags\n",
    "        results = predictor.predict_image(project.id, img_data)\n",
    "        return results.predictions[0].tag_name\n",
    "    \n",
    "    except Exception as e:\n",
    "        print(e)\n"
   ]
  },
  {
   "cell_type": "code",
   "execution_count": 10,
   "metadata": {
    "scrolled": false
   },
   "outputs": [
    {
     "data": {
      "image/png": "[encoded data removed]",
      "text/plain": [
       "<matplotlib.figure.Figure at 0x7f9265599518>"
      ]
     },
     "metadata": {},
     "output_type": "display_data"
    },
    {
     "data": {
      "image/png": "[encoded data removed]",
      "text/plain": [
       "<matplotlib.figure.Figure at 0x7f92686417b8>"
      ]
     },
     "metadata": {},
     "output_type": "display_data"
    }
   ],
   "source": [
    "%matplotlib inline\n",
    "import os\n",
    "import matplotlib.pyplot as plt\n",
    "import matplotlib.image as mpimg\n",
    "import time\n",
    "\n",
    "plt.axis('off')\n",
    "\n",
    "fig = plt.figure(figsize=(6, 6))\n",
    "\n",
    "# Get the last image of each jacket type to test with\n",
    "test_images = []\n",
    "hardshell_dir = \"resized_images/hardshell_jackets\"\n",
    "for image in os.listdir(hardshell_dir)[-1:]:\n",
    "    test_images.append(os.path.join(hardshell_dir, image))\n",
    "insulated_dir = \"resized_images/insulated_jackets\"\n",
    "for image in os.listdir(insulated_dir)[-1:]:\n",
    "    test_images.append(os.path.join(insulated_dir,image))\n",
    "    \n",
    "i = 0\n",
    "for image in test_images:\n",
    "    i = i + 1\n",
    "    class_name = classify_image(image)\n",
    "    img = mpimg.imread(image)\n",
    "    a=fig.add_subplot(1,len(test_images),i)\n",
    "    imgplot = plt.imshow(img)\n",
    "    a.set_title(class_name)\n",
    "    # Delay to avoid rate limit error\n",
    "    time.sleep(1)\n",
    "\n"
   ]
  }
 ],
 "metadata": {
  "kernelspec": {
   "display_name": "Python 3",
   "language": "python",
   "name": "python3"
  },
  "language_info": {
   "codemirror_mode": {
    "name": "ipython",
    "version": 3
   },
   "file_extension": ".py",
   "mimetype": "text/x-python",
   "name": "python",
   "nbconvert_exporter": "python",
   "pygments_lexer": "ipython3",
   "version": "3.6.5"
  }
 },
 "nbformat": 4,
 "nbformat_minor": 2
}
